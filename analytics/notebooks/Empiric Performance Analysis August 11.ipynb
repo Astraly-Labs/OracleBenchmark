{
 "cells": [
  {
   "cell_type": "markdown",
   "id": "95c562bc-a0af-4ea8-8fda-08191aaa867a",
   "metadata": {
    "jp-MarkdownHeadingCollapsed": true,
    "tags": []
   },
   "source": [
    "## About\n",
    "\n",
    "For protocols deciding which oracle to use, **reliability and robustness** are imperative. To showcase our reliability and robustness we decided to create a public track record of our performance starting with the very first price update. Empiric’s smart contracts emit an event every time a source sends new data on-chain which makes us the **only oracle on StarkNet with an auditable and transparent historical record today**.\n",
    "\n",
    "Since going live as the **first oracle** on StarkNet, Empiric’s contracts have **emitted over 3.5M events, showcasing our near perfect accuracy and reliability over that time**. When controlling for StarkNet outages (during which no blocks get produced and everything on the network stops) we achieve 100% reliability and accuracy."
   ]
  },
  {
   "attachments": {},
   "cell_type": "markdown",
   "id": "d301eccd-be0f-486a-8202-c189df82dfb4",
   "metadata": {},
   "source": [
    "## This Document\n",
    "\n",
    "Below is a new analysis of our performance the last 5+ weeks. This is not based on some internal record-keeping, but all **based on data publicly available on the blockchain** (see this script if you'd like to run yourself: https://github.com/Astraly-Labs/Empiric/blob/master/analytics/crawl_events.py).\n",
    "\n",
    "We go through overall performance, identify anomalies and provide context on the background for each of those (StarkNet being down or breaking its own API/SDK)."
   ]
  },
  {
   "cell_type": "code",
   "execution_count": 1,
   "id": "055add2e-2757-42e8-9b42-e1dc8c7c6ec7",
   "metadata": {},
   "outputs": [],
   "source": [
    "import pandas as pd\n",
    "import matplotlib.pyplot as plt"
   ]
  },
  {
   "cell_type": "code",
   "execution_count": 2,
   "id": "f729f086-2f4c-4ac0-8741-54526be24eeb",
   "metadata": {},
   "outputs": [],
   "source": [
    "df = pd.read_csv(\"empiric-events.csv\")\n",
    "df = df.drop(columns=\"Unnamed: 0\")\n",
    "df[\"datetime\"] = pd.to_datetime(df[\"datetime\"])\n",
    "df = df[df[\"timestamp\"] >= 1657092180] # This is when we upgraded from our previous oracle contract to this one"
   ]
  },
  {
   "cell_type": "code",
   "execution_count": 4,
   "id": "31fa05b3-bf7b-413f-88e9-97d94f231385",
   "metadata": {},
   "outputs": [],
   "source": [
    "eth_data = df[df[\"key\"] == \"eth/usd\"]\n",
    "eth_data.loc[:, [\"transaction_hash\",]] = eth_data[\"transaction_hash\"].apply(lambda x: hex(int(x)))"
   ]
  },
  {
   "cell_type": "code",
   "execution_count": 5,
   "id": "d01b8448-3413-4d76-af22-64edf9e3c41c",
   "metadata": {},
   "outputs": [
    {
     "data": {
      "image/png": "[encoded data removed]",
      "text/plain": [
       "<Figure size 1440x360 with 1 Axes>"
      ]
     },
     "metadata": {
      "needs_background": "light"
     },
     "output_type": "display_data"
    }
   ],
   "source": [
    "plt.figure(figsize=(20, 5))\n",
    "plt.scatter(eth_data[\"datetime\"], eth_data[\"value\"])\n",
    "plt.title(\"Empiric's Verifiable ETH/USD Price Feed (Historical)\", fontsize=20)\n",
    "plt.show()"
   ]
  },
  {
   "cell_type": "code",
   "execution_count": 6,
   "id": "c5fff2c0-c33a-4626-a99a-949be4a1c070",
   "metadata": {},
   "outputs": [],
   "source": [
    "eth_data = eth_data.sort_values(\"datetime\")\n",
    "eth_data[\"previous_datetime\"] = eth_data.shift(1)[\"datetime\"]\n",
    "eth_data[\"time_diff\"] = eth_data[\"datetime\"] - eth_data[\"previous_datetime\"]\n",
    "eth_data[\"seconds_diff\"] = eth_data[\"time_diff\"].apply(lambda x: x.seconds)"
   ]
  },
  {
   "cell_type": "markdown",
   "id": "1c88c92e-4a23-44d8-943a-48a25bda19f3",
   "metadata": {},
   "source": [
    "## Frequency\n",
    "\n",
    "The majority of **updates happens 3 seconds** after the last update. 75% of updates are at most 8 seconds apart.\n",
    "\n",
    "There is no fixed time between updates because **Empiric is an entirely on-chain oracle** (making it verifiable, transparent and much more robust). The fact that many different data publishers provide data to Empiric's smart contracts makes the entire system much more resilient. As we can see, the absolute worst 1% of updates still take less than 2 minutes between updates."
   ]
  },
  {
   "cell_type": "code",
   "execution_count": 7,
   "id": "9fea7124-cb0f-4ee0-bf8f-ad4ac15adb01",
   "metadata": {},
   "outputs": [
    {
     "data": {
      "text/plain": [
       "count    264665.000000\n",
       "mean         12.010156\n",
       "std          77.001430\n",
       "min           0.000000\n",
       "25%           0.000000\n",
       "50%           3.000000\n",
       "75%           8.000000\n",
       "90%          38.000000\n",
       "95%          68.000000\n",
       "99%         117.000000\n",
       "max       34336.000000\n",
       "Name: seconds_diff, dtype: float64"
      ]
     },
     "execution_count": 7,
     "metadata": {},
     "output_type": "execute_result"
    }
   ],
   "source": [
    "eth_data[\"seconds_diff\"].describe(percentiles=[0.25, 0.5, 0.75, 0.9, 0.95, 0.99])"
   ]
  },
  {
   "cell_type": "markdown",
   "id": "09254ce4-cd41-4257-98ff-57c139f8c2df",
   "metadata": {},
   "source": [
    "## Reliability\n",
    "\n",
    "Empiric is extremely reliable. When controlling for StarkNet’s sequencer not processing transactions (in which case block production is of course halted and everything on StarkNet stops) we achieve 100% uptime and overall robustness. \n",
    "\n",
    "Let's investigate every single case where data updating took longer than expected time, filtering based on the time (in seconds) between updates:"
   ]
  },
  {
   "cell_type": "code",
   "execution_count": 8,
   "id": "d298e699-ff84-49b0-87cd-f895dc1b305d",
   "metadata": {},
   "outputs": [
    {
     "data": {
      "text/html": [
       "<div>\n",
       "<style scoped>\n",
       "    .dataframe tbody tr th:only-of-type {\n",
       "        vertical-align: middle;\n",
       "    }\n",
       "\n",
       "    .dataframe tbody tr th {\n",
       "        vertical-align: top;\n",
       "    }\n",
       "\n",
       "    .dataframe thead th {\n",
       "        text-align: right;\n",
       "    }\n",
       "</style>\n",
       "<table border=\"1\" class=\"dataframe\">\n",
       "  <thead>\n",
       "    <tr style=\"text-align: right;\">\n",
       "      <th></th>\n",
       "      <th>key</th>\n",
       "      <th>value</th>\n",
       "      <th>source</th>\n",
       "      <th>publisher</th>\n",
       "      <th>timestamp</th>\n",
       "      <th>transaction_hash</th>\n",
       "      <th>datetime</th>\n",
       "      <th>previous_datetime</th>\n",
       "      <th>time_diff</th>\n",
       "      <th>seconds_diff</th>\n",
       "    </tr>\n",
       "  </thead>\n",
       "  <tbody>\n",
       "    <tr>\n",
       "      <th>1022156</th>\n",
       "      <td>eth/usd</td>\n",
       "      <td>1347.640</td>\n",
       "      <td>coinbase</td>\n",
       "      <td>equilibrium</td>\n",
       "      <td>1658065980</td>\n",
       "      <td>0x31bd64db4223626af06bb33f8457e1e81d895b94b246...</td>\n",
       "      <td>2022-07-17 13:53:00</td>\n",
       "      <td>2022-07-17 13:15:39</td>\n",
       "      <td>0 days 00:37:21</td>\n",
       "      <td>2241.0</td>\n",
       "    </tr>\n",
       "    <tr>\n",
       "      <th>1025638</th>\n",
       "      <td>eth/usd</td>\n",
       "      <td>1350.670</td>\n",
       "      <td>coinbase</td>\n",
       "      <td>pontis</td>\n",
       "      <td>1658073300</td>\n",
       "      <td>0x3b2ae9b2e3229aeb2b6f01da26b27af796cb58063c6a...</td>\n",
       "      <td>2022-07-17 15:55:00</td>\n",
       "      <td>2022-07-17 14:37:38</td>\n",
       "      <td>0 days 01:17:22</td>\n",
       "      <td>4642.0</td>\n",
       "    </tr>\n",
       "    <tr>\n",
       "      <th>1335188</th>\n",
       "      <td>eth/usd</td>\n",
       "      <td>1598.250</td>\n",
       "      <td>coingecko</td>\n",
       "      <td>empiric</td>\n",
       "      <td>1658315847</td>\n",
       "      <td>0x436776591febfb4a7048a5e2bc87fab7c2d6fcb0fc57...</td>\n",
       "      <td>2022-07-20 11:17:27</td>\n",
       "      <td>2022-07-20 09:02:42</td>\n",
       "      <td>0 days 02:14:45</td>\n",
       "      <td>8085.0</td>\n",
       "    </tr>\n",
       "    <tr>\n",
       "      <th>1342557</th>\n",
       "      <td>eth/usd</td>\n",
       "      <td>1537.690</td>\n",
       "      <td>coinbase</td>\n",
       "      <td>pontis</td>\n",
       "      <td>1658367900</td>\n",
       "      <td>0x25e345b2da76c33b340876ec61bb4d08a7ff183b0617...</td>\n",
       "      <td>2022-07-21 01:45:00</td>\n",
       "      <td>2022-07-20 16:12:44</td>\n",
       "      <td>0 days 09:32:16</td>\n",
       "      <td>34336.0</td>\n",
       "    </tr>\n",
       "    <tr>\n",
       "      <th>1496708</th>\n",
       "      <td>eth/usd</td>\n",
       "      <td>1536.610</td>\n",
       "      <td>coinbase</td>\n",
       "      <td>pontis</td>\n",
       "      <td>1658741040</td>\n",
       "      <td>0x1aabf1adeb11e98214e6f7cfaf79bb12a3afef8efe4d...</td>\n",
       "      <td>2022-07-25 09:24:00</td>\n",
       "      <td>2022-07-25 08:57:36</td>\n",
       "      <td>0 days 00:26:24</td>\n",
       "      <td>1584.0</td>\n",
       "    </tr>\n",
       "    <tr>\n",
       "      <th>1499606</th>\n",
       "      <td>eth/usd</td>\n",
       "      <td>1509.935</td>\n",
       "      <td>coinbase</td>\n",
       "      <td>pontis</td>\n",
       "      <td>1658759400</td>\n",
       "      <td>0x623520fb4ea20dca8314db4342e73d41018635b72c07...</td>\n",
       "      <td>2022-07-25 14:30:00</td>\n",
       "      <td>2022-07-25 11:17:37</td>\n",
       "      <td>0 days 03:12:23</td>\n",
       "      <td>11543.0</td>\n",
       "    </tr>\n",
       "  </tbody>\n",
       "</table>\n",
       "</div>"
      ],
      "text/plain": [
       "             key     value     source    publisher   timestamp  \\\n",
       "1022156  eth/usd  1347.640   coinbase  equilibrium  1658065980   \n",
       "1025638  eth/usd  1350.670   coinbase       pontis  1658073300   \n",
       "1335188  eth/usd  1598.250  coingecko      empiric  1658315847   \n",
       "1342557  eth/usd  1537.690   coinbase       pontis  1658367900   \n",
       "1496708  eth/usd  1536.610   coinbase       pontis  1658741040   \n",
       "1499606  eth/usd  1509.935   coinbase       pontis  1658759400   \n",
       "\n",
       "                                          transaction_hash  \\\n",
       "1022156  0x31bd64db4223626af06bb33f8457e1e81d895b94b246...   \n",
       "1025638  0x3b2ae9b2e3229aeb2b6f01da26b27af796cb58063c6a...   \n",
       "1335188  0x436776591febfb4a7048a5e2bc87fab7c2d6fcb0fc57...   \n",
       "1342557  0x25e345b2da76c33b340876ec61bb4d08a7ff183b0617...   \n",
       "1496708  0x1aabf1adeb11e98214e6f7cfaf79bb12a3afef8efe4d...   \n",
       "1499606  0x623520fb4ea20dca8314db4342e73d41018635b72c07...   \n",
       "\n",
       "                   datetime   previous_datetime       time_diff  seconds_diff  \n",
       "1022156 2022-07-17 13:53:00 2022-07-17 13:15:39 0 days 00:37:21        2241.0  \n",
       "1025638 2022-07-17 15:55:00 2022-07-17 14:37:38 0 days 01:17:22        4642.0  \n",
       "1335188 2022-07-20 11:17:27 2022-07-20 09:02:42 0 days 02:14:45        8085.0  \n",
       "1342557 2022-07-21 01:45:00 2022-07-20 16:12:44 0 days 09:32:16       34336.0  \n",
       "1496708 2022-07-25 09:24:00 2022-07-25 08:57:36 0 days 00:26:24        1584.0  \n",
       "1499606 2022-07-25 14:30:00 2022-07-25 11:17:37 0 days 03:12:23       11543.0  "
      ]
     },
     "execution_count": 8,
     "metadata": {},
     "output_type": "execute_result"
    }
   ],
   "source": [
    "eth_data[eth_data[\"seconds_diff\"] > 1200]"
   ]
  },
  {
   "cell_type": "markdown",
   "id": "99248765-e6b0-46f0-afd3-29826ed38dcb",
   "metadata": {},
   "source": [
    "### Context on Reliability\n",
    "\n",
    "**Timestamp 1658065980**: StarkNet block production was interrupted. See transaction hash that confirms transaction failed because it was processed more than an hour after being sent: \n",
    "\n",
    "https://alpha4.starknet.io/feeder_gateway/get_transaction_receipt?transactionHash=0x31bd64db4223626af06bb33f8457e1e81d895b94b246614e1ffc6e4f4766fdf\n",
    "\n",
    "**Timestamp 1658073300**: StarkNet block production ceased. See blocks 270232\n",
    "\n",
    "(https://goerli.voyager.online/block/0x4ab8df360db263c38952a70eb982de55ce6ebcbfc17fcb74da9e7fe1adad93f)\n",
    "\n",
    "and 270233\n",
    "\n",
    "(https://goerli.voyager.online/block/0x69192af2804f10281fb32df5d403bb6e74486f0c6f3972a9baa88592e283d1c)\n",
    "\n",
    "**Timestamp 1658315847**: StarkNet upgraded to Cairo 0.9.1, breaking both the starknet.py and starknet.js SDKs. Our alerts picked up on it and we patched manually. We have agreed implemented better processes for breaking change releases with StarkWare and will deploy on their integration network in order to have earlier notice next time. On mainnet this will never happen because StarkWare releases changes on testnet a week in advance of mainnet.\n",
    "\n",
    "**Timestamp 1658367900**: StarkNet block production ceased. See blocks 273104\n",
    "\n",
    "(https://goerli.voyager.online/block/0x163f580b43d2b6059b26d6bf75739b30f33f43e19721baa605805daed131ff0)\n",
    "\n",
    "and 273103\n",
    "\n",
    "(https://goerli.voyager.online/block/0x1187a1ff3f96f9188a0d3f440131fc6cb6803e05966dae2f4bc82e65af2ed71)\n",
    "\n",
    "**Timestamp 1658741040**: StarkNet block production was interrupted. See transaction hash that confirms transaction failed because it was processed more than an hour after being sent: \n",
    "\n",
    "https://alpha4.starknet.io/feeder_gateway/get_transaction_receipt?transactionHash=0x1aabf1adeb11e98214e6f7cfaf79bb12a3afef8efe4db553f12260f22b0fe01\n",
    "\n",
    "**Timestamp 1658759400**: StarkNet block production ceased. See blocks 277167\n",
    "\n",
    "(https://goerli.voyager.online/block/0x2e9a40f4e77a9a24a882f371af80a21f1a3b027080aa35ae8cbfd5d9124b297)\n",
    "\n",
    "and 277168\n",
    "\n",
    "(https://goerli.voyager.online/block/0x41f1ff9dfd1511c64099c7206301d35b9c247ed2561a350223e126279eda42c)"
   ]
  },
  {
   "cell_type": "code",
   "execution_count": null,
   "id": "e8ba7ebd-dc81-4b7d-8188-26a97390275a",
   "metadata": {},
   "outputs": [],
   "source": []
  }
 ],
 "metadata": {
  "kernelspec": {
   "display_name": "starknet",
   "language": "python",
   "name": "python3"
  },
  "language_info": {
   "codemirror_mode": {
    "name": "ipython",
    "version": 3
   },
   "file_extension": ".py",
   "mimetype": "text/x-python",
   "name": "python",
   "nbconvert_exporter": "python",
   "pygments_lexer": "ipython3",
   "version": "3.9.1 (default, May 12 2022, 00:11:26) \n[Clang 13.0.0 (clang-1300.0.29.30)]"
  },
  "toc-autonumbering": false,
  "toc-showcode": true,
  "toc-showmarkdowntxt": false,
  "toc-showtags": false,
  "vscode": {
   "interpreter": {
    "hash": "21d8114ae5d7b0b5bf89cbc8d2e966502a35183219d5aaf8a9e08fc0c70b5a8b"
   }
  }
 },
 "nbformat": 4,
 "nbformat_minor": 5
}
